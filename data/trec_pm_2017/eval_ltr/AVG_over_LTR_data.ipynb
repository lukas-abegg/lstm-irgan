{
 "cells": [
  {
   "cell_type": "code",
   "execution_count": 16,
   "metadata": {},
   "outputs": [
    {
     "name": "stdout",
     "output_type": "stream",
     "text": [
      "75.6896551724138\n"
     ]
    }
   ],
   "source": [
    "f = open(\"input.UD_GU_CT_1\", \"r\")\n",
    "\n",
    "k = {}\n",
    "t = []\n",
    "before = \"\"\n",
    "actual = \"\"\n",
    "count = 0\n",
    "    \n",
    "for x in f:\n",
    "    s = x.split(\"\\t\")\n",
    "   \n",
    "    if (str(s[0]) == actual):\n",
    "        count = count + 1\n",
    "    elif (\"\" == actual):\n",
    "        actual = str(s[0])\n",
    "        before = actual\n",
    "        count = 0\n",
    "    else:\n",
    "        k[before] = count\n",
    "        t.append(count)\n",
    "        actual = str(s[0])\n",
    "        before = actual\n",
    "        count = 0\n",
    "\n",
    "import numpy as np\n",
    "\n",
    "print(np.mean(t))\n",
    "        \n",
    "        "
   ]
  },
  {
   "cell_type": "code",
   "execution_count": null,
   "metadata": {},
   "outputs": [],
   "source": []
  }
 ],
 "metadata": {
  "kernelspec": {
   "display_name": "Python 3",
   "language": "python",
   "name": "python3"
  },
  "language_info": {
   "codemirror_mode": {
    "name": "ipython",
    "version": 3
   },
   "file_extension": ".py",
   "mimetype": "text/x-python",
   "name": "python",
   "nbconvert_exporter": "python",
   "pygments_lexer": "ipython3",
   "version": "3.6.8"
  }
 },
 "nbformat": 4,
 "nbformat_minor": 2
}

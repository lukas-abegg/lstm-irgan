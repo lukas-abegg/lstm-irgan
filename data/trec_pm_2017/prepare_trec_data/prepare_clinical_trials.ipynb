{
 "cells": [
  {
   "cell_type": "code",
   "execution_count": 36,
   "metadata": {},
   "outputs": [],
   "source": [
    "import pandas as pd\n",
    "import numpy as np\n",
    "\n",
    "from nltk.corpus import stopwords\n",
    "\n",
    "import xml.etree.ElementTree as ET\n",
    "\n",
    "from pathlib import Path\n",
    "\n",
    "import shutil\n",
    "\n",
    "trials_judgements = \"../data/qrels-final-trials2.txt\"\n",
    "trials_topics = \"../data/topics2017.xml\"\n",
    "trials_documents = \"../data/documents\"\n",
    "\n",
    "trials_documents_dest = \"../data/documents/final\"\n",
    "\n",
    "with open(trials_judgements) as f:\n",
    "    judgements = f.readlines()\n",
    "\n",
    "judgements = [x.split() for x in judgements]\n",
    "\n",
    "judgements = pd.DataFrame(judgements)\n",
    "judgements.columns = ['topic', 'q0', 'trial', 'relevance']\n",
    "trials = judgements.trial.values"
   ]
  },
  {
   "cell_type": "code",
   "execution_count": 38,
   "metadata": {},
   "outputs": [
    {
     "name": "stdout",
     "output_type": "stream",
     "text": [
      "000\n",
      "00002\n",
      "../data/documents/000/00002/NCT00002185.txt\n",
      "../data/documents/final/NCT00002185.txt\n",
      "000\n",
      "00002\n",
      "../data/documents/000/00002/NCT00002466.txt\n",
      "../data/documents/final/NCT00002466.txt\n",
      "000\n",
      "00002\n",
      "../data/documents/000/00002/NCT00002641.txt\n",
      "../data/documents/final/NCT00002641.txt\n",
      "000\n",
      "00002\n",
      "../data/documents/000/00002/NCT00002764.txt\n",
      "../data/documents/final/NCT00002764.txt\n",
      "000\n",
      "00002\n",
      "../data/documents/000/00002/NCT00002804.txt\n",
      "../data/documents/final/NCT00002804.txt\n"
     ]
    }
   ],
   "source": [
    "\n",
    "def read_document(path):\n",
    "    my_file = Path(path)\n",
    "    if my_file.is_file():\n",
    "        return my_file.read_text()\n",
    "    else:\n",
    "        return \"\"\n",
    "\n",
    "def copy_large_file(src, dest, buffer_size=16000):\n",
    "    with open(src, 'rb') as fsrc:\n",
    "        with open(dest, 'wb') as fdest:\n",
    "            shutil.copyfileobj(fsrc, fdest, buffer_size)\n",
    "\n",
    "for id in trials:\n",
    "    # /000/00000/NCT00000102.txt\n",
    "    folder = id.split(\"NCT\")[1][:3]\n",
    "    print(folder)\n",
    "    subfolder = id.split(\"NCT\")[1][:5]\n",
    "    print(subfolder)\n",
    "            \n",
    "    source = trials_documents + \"/\" + folder + \"/\" + subfolder + \"/\" + id + \".txt\"\n",
    "    dest = trials_documents_dest + \"/\" + id + \".txt\"\n",
    "    print(source)\n",
    "    print(dest)\n",
    "    copyLargeFile(source, dest)"
   ]
  },
  {
   "cell_type": "code",
   "execution_count": null,
   "metadata": {},
   "outputs": [],
   "source": []
  }
 ],
 "metadata": {
  "kernelspec": {
   "display_name": "Python 3",
   "language": "python",
   "name": "python3"
  },
  "language_info": {
   "codemirror_mode": {
    "name": "ipython",
    "version": 3
   },
   "file_extension": ".py",
   "mimetype": "text/x-python",
   "name": "python",
   "nbconvert_exporter": "python",
   "pygments_lexer": "ipython3",
   "version": "3.6.4"
  }
 },
 "nbformat": 4,
 "nbformat_minor": 1
}

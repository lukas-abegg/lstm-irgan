{
 "cells": [
  {
   "cell_type": "code",
   "execution_count": 71,
   "metadata": {},
   "outputs": [],
   "source": [
    "def __get_documents(path):\n",
    "    documents = {}\n",
    "    doc_ids = []\n",
    "\n",
    "    with open(path) as f:\n",
    "        content = f.readlines()\n",
    "        for line in content:\n",
    "            values = line.split(\"\\t\", 1)\n",
    "            id = values[0]\n",
    "            text = values[1]\n",
    "            documents[id] = text\n",
    "            doc_ids.append(id)\n",
    "    return documents, doc_ids\n",
    "\n",
    "def __get_queries(path):\n",
    "    queries = {}\n",
    "    query_ids = []\n",
    "\n",
    "    with open(path) as f:\n",
    "        content = f.readlines()\n",
    "        for line in content:\n",
    "            values = line.split(\"\\t\", 1)\n",
    "            id = values[0]\n",
    "            text = values[1]\n",
    "            queries[id] = text\n",
    "            query_ids.append(id)\n",
    "    return queries, query_ids\n",
    "\n",
    "def __get_ratings(path):\n",
    "    ratings = {}\n",
    "\n",
    "    with open(path) as f:\n",
    "        content = f.readlines()\n",
    "        for line in content:\n",
    "            values = line.split(\"\\t\")\n",
    "            query = values[0]\n",
    "            text = values[2]\n",
    "            rating = float(values[3])\n",
    "\n",
    "            if query in ratings.keys():\n",
    "                ratings[query][text] = rating\n",
    "            else:\n",
    "                ratings[query] = {text: rating}\n",
    "\n",
    "    return ratings"
   ]
  },
  {
   "cell_type": "markdown",
   "metadata": {},
   "source": [
    "### Merge queries data "
   ]
  },
  {
   "cell_type": "code",
   "execution_count": 74,
   "metadata": {},
   "outputs": [
    {
     "name": "stdout",
     "output_type": "stream",
     "text": [
      "Amount of queries in train: \t2594\n",
      "Amount of queries in dev: \t325\n",
      "Amount of queries: \t2919\n",
      "Amount of queries merged: \t2919\n"
     ]
    }
   ],
   "source": [
    "import sys\n",
    "import csv\n",
    "\n",
    "csv.field_size_limit(sys.maxsize)\n",
    "\n",
    "path_queries_train = \"./all_queries/train.all.queries\"\n",
    "path_queries_dev = \"./all_queries/dev.all.queries\"\n",
    "path_queries_merged = \"./all_queries/merged.all.queries\"\n",
    "\n",
    "queries_train, query_ids = __get_queries(path_queries_train)\n",
    "\n",
    "print(\"Amount of queries in train: \\t\"+str(len(queries_train)))\n",
    "        \n",
    "queries_dev, query_ids = __get_queries(path_queries_dev)\n",
    "        \n",
    "print(\"Amount of queries in dev: \\t\"+str(len(queries_dev)))\n",
    "\n",
    "queries_train.update(queries_dev)\n",
    "\n",
    "print(\"Amount of queries: \\t\"+str(len(queries_train)))\n",
    "\n",
    "with open(path_queries_merged, mode='w') as merge_file:\n",
    "    for key in queries_train.keys():\n",
    "        merge_file.write(key+\"\\t\"+queries_train[key])\n",
    "        \n",
    "queries_merged, query_ids = __get_queries(path_queries_merged)\n",
    "\n",
    "print(\"Amount of queries merged: \\t\"+str(len(queries_merged)))\n"
   ]
  },
  {
   "cell_type": "markdown",
   "metadata": {},
   "source": [
    "### Merge docs data"
   ]
  },
  {
   "cell_type": "code",
   "execution_count": 75,
   "metadata": {},
   "outputs": [
    {
     "name": "stdout",
     "output_type": "stream",
     "text": [
      "Amount of docs in train: \t3612\n",
      "Amount of docs in dev: \t3193\n",
      "\n",
      "Amount of docs: \t3626\n",
      "Amount of docs merged: \t3625\n"
     ]
    }
   ],
   "source": [
    "import sys\n",
    "import csv\n",
    "\n",
    "csv.field_size_limit(sys.maxsize)\n",
    "\n",
    "path_docs_train = \"./all_docs/train.docs\"\n",
    "path_docs_dev = \"./all_docs/dev.docs\"\n",
    "path_docs_merged = \"./all_docs/merged.docs\"\n",
    "\n",
    "docs_train, doc_ids = __get_documents(path_docs_train)\n",
    "\n",
    "print(\"Amount of docs in train: \\t\"+str(len(docs_train)))\n",
    "        \n",
    "docs_dev, doc_ids = __get_documents(path_docs_dev)\n",
    "        \n",
    "print(\"Amount of docs in dev: \\t\"+str(len(docs_dev))+\"\\n\")\n",
    "\n",
    "docs_train.update(docs_dev)\n",
    "\n",
    "print(\"Amount of docs: \\t\"+str(len(docs_train)))\n",
    "\n",
    "with open(path_docs_merged, mode='w') as merge_file:\n",
    "    for key in docs_train.keys():\n",
    "        merge_file.write(key+\"\\t\"+docs_train[key])\n",
    "        \n",
    "docs_merged, query_ids = __get_documents(path_docs_merged)\n",
    "\n",
    "print(\"Amount of docs merged: \\t\"+str(len(docs_merged)))\n"
   ]
  },
  {
   "cell_type": "markdown",
   "metadata": {},
   "source": [
    "### Merge ratings data"
   ]
  },
  {
   "cell_type": "code",
   "execution_count": 78,
   "metadata": {},
   "outputs": [
    {
     "name": "stdout",
     "output_type": "stream",
     "text": [
      "Amount of ratings in train: \t2594\n",
      "Amount of ratings in dev: \t325\n",
      "Amount of ratings: \t2919\n",
      "Amount of ratings merged: \t2919\n"
     ]
    }
   ],
   "source": [
    "import sys\n",
    "import csv\n",
    "\n",
    "csv.field_size_limit(sys.maxsize)\n",
    "\n",
    "path_ratings_train = \"./all_qrels/3-2-1/train.3-2-1.qrel\"\n",
    "path_ratings_dev = \"./all_qrels/3-2-1/dev.3-2-1.qrel\"\n",
    "path_ratings_merged = \"./all_qrels/3-2-1/merged.3-2-1.qrel\"\n",
    "\n",
    "ratings_train = __get_ratings(path_ratings_train)\n",
    "\n",
    "print(\"Amount of ratings in train: \\t\"+str(len(ratings_train)))\n",
    "        \n",
    "ratings_dev = __get_ratings(path_ratings_dev)\n",
    "        \n",
    "print(\"Amount of ratings in dev: \\t\"+str(len(ratings_dev)))\n",
    "\n",
    "ratings_train.update(ratings_dev)\n",
    "\n",
    "print(\"Amount of ratings: \\t\"+str(len(ratings_train)))\n",
    "\n",
    "with open(path_ratings_merged, mode='w') as merge_file:\n",
    "    for query in ratings_train.keys():\n",
    "        for doc in ratings_train[query].keys():\n",
    "            merge_file.write(query + \"\\t\" + \"0\" + \"\\t\" + doc + \"\\t\" + str(ratings_train[query][doc])+\"\\n\")\n",
    "        \n",
    "ratings_merged = __get_ratings(path_ratings_merged)\n",
    "\n",
    "print(\"Amount of ratings merged: \\t\"+str(len(ratings_merged)))"
   ]
  },
  {
   "cell_type": "code",
   "execution_count": null,
   "metadata": {},
   "outputs": [],
   "source": []
  }
 ],
 "metadata": {
  "kernelspec": {
   "display_name": "Python 2",
   "language": "python",
   "name": "python2"
  },
  "language_info": {
   "codemirror_mode": {
    "name": "ipython",
    "version": 3
   },
   "file_extension": ".py",
   "mimetype": "text/x-python",
   "name": "python",
   "nbconvert_exporter": "python",
   "pygments_lexer": "ipython3",
   "version": "3.6.6"
  }
 },
 "nbformat": 4,
 "nbformat_minor": 1
}

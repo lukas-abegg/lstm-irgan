{
 "cells": [
  {
   "cell_type": "markdown",
   "metadata": {
    "collapsed": true
   },
   "source": [
    "### Analyse test data "
   ]
  },
  {
   "cell_type": "code",
   "execution_count": 58,
   "metadata": {},
   "outputs": [
    {
     "name": "stdout",
     "output_type": "stream",
     "text": [
      "Amount of queries: \t325\n",
      "Amount of docs: \t3162\n",
      "Amount of ratings: \t12334\n"
     ]
    }
   ],
   "source": [
    "import sys\n",
    "import csv\n",
    "\n",
    "csv.field_size_limit(sys.maxsize)\n",
    "\n",
    "path_queries_test = \"./all_queries/test.all.queries\"\n",
    "path_docs_test = \"./all_docs/test.docs\"\n",
    "path_ratings_test = \"./all_qrels/2-1-0/test.2-1-0.qrel\"\n",
    "\n",
    "queries_test = {}\n",
    "with open(path_queries_test, 'r') as csvfile:\n",
    "    csvreader = csv.reader(csvfile, delimiter='\\t')\n",
    "    for row in csvreader:\n",
    "        queries_test[row[0]] = row[1]\n",
    "        \n",
    "print(\"Amount of queries: \\t\"+str(len(queries_test)))\n",
    "\n",
    "docs_test = {}\n",
    "with open(path_docs_test, 'r') as csvfile:\n",
    "    csvreader = csv.reader(csvfile, delimiter='\\t')\n",
    "    for row in csvreader:\n",
    "        docs_test[row[0]] = row[1]\n",
    "\n",
    "print(\"Amount of docs: \\t\"+str(len(docs_test)))\n",
    "\n",
    "ratings_test = {}\n",
    "ratings_count_test = 0\n",
    "with open(path_ratings_test, 'r') as csvfile:\n",
    "    csvreader = csv.reader(csvfile, delimiter='\\t')\n",
    "        \n",
    "    for row in csvreader:\n",
    "        ratings_count_test = ratings_count_test + 1\n",
    "        query = row[0]\n",
    "        text = row[2]\n",
    "        rating = float(row[3])\n",
    "        \n",
    "        if query in ratings_test.keys():\n",
    "            ratings_test[query][text] = rating\n",
    "        else:\n",
    "            ratings_test[query] = {text: rating}\n",
    "        \n",
    "print(\"Amount of ratings: \\t\"+str(ratings_count_test))"
   ]
  },
  {
   "cell_type": "markdown",
   "metadata": {},
   "source": [
    "### Analyse dev data "
   ]
  },
  {
   "cell_type": "code",
   "execution_count": 59,
   "metadata": {},
   "outputs": [
    {
     "name": "stdout",
     "output_type": "stream",
     "text": [
      "Amount of queries: \t325\n",
      "Amount of docs: \t3193\n",
      "Amount of ratings: \t11385\n"
     ]
    }
   ],
   "source": [
    "path_queries_dev = \"./all_queries/dev.all.queries\"\n",
    "path_docs_dev = \"./all_docs/dev.docs\"\n",
    "path_ratings_dev = \"./all_qrels/2-1-0/dev.2-1-0.qrel\"\n",
    "\n",
    "queries_dev = {}\n",
    "with open(path_queries_dev, 'r') as csvfile:\n",
    "    csvreader = csv.reader(csvfile, delimiter='\\t')\n",
    "    for row in csvreader:\n",
    "        queries_dev[row[0]] = row[1]\n",
    "        \n",
    "print(\"Amount of queries: \\t\"+str(len(queries_dev)))\n",
    "\n",
    "docs_dev = {}\n",
    "with open(path_docs_dev, 'r') as csvfile:\n",
    "    csvreader = csv.reader(csvfile, delimiter='\\t')\n",
    "    for row in csvreader:\n",
    "        docs_dev[row[0]] = row[1]\n",
    "        \n",
    "print(\"Amount of docs: \\t\"+str(len(docs_dev)))\n",
    "\n",
    "ratings_dev = {}\n",
    "ratings_count_dev = 0\n",
    "with open(path_ratings_dev, 'r') as csvfile:\n",
    "    csvreader = csv.reader(csvfile, delimiter='\\t')\n",
    "        \n",
    "    for row in csvreader:\n",
    "        ratings_count_dev = ratings_count_dev + 1\n",
    "        query = row[0]\n",
    "        text = row[2]\n",
    "        rating = float(row[3])\n",
    "        \n",
    "        if query in ratings_dev.keys():\n",
    "            ratings_dev[query][text] = rating\n",
    "        else:\n",
    "            ratings_dev[query] = {text: rating}\n",
    "        \n",
    "print(\"Amount of ratings: \\t\"+str(ratings_count_dev))"
   ]
  },
  {
   "cell_type": "markdown",
   "metadata": {},
   "source": [
    "### Analyse train data"
   ]
  },
  {
   "cell_type": "code",
   "execution_count": 61,
   "metadata": {},
   "outputs": [
    {
     "name": "stdout",
     "output_type": "stream",
     "text": [
      "Amount of queries: \t2594\n",
      "Amount of docs: \t3612\n",
      "Amount of ratings: \t110575\n"
     ]
    }
   ],
   "source": [
    "path_queries_train = \"./all_queries/train.all.queries\"\n",
    "path_docs_train = \"./all_docs/train.docs\"\n",
    "path_ratings_train = \"./all_qrels/2-1-0/train.2-1-0.qrel\"\n",
    "\n",
    "queries_train = {}\n",
    "with open(path_queries_train, 'r') as csvfile:\n",
    "    csvreader = csv.reader(csvfile, delimiter='\\t')\n",
    "    for row in csvreader:\n",
    "        queries_train[row[0]] = row[1]\n",
    "        \n",
    "print(\"Amount of queries: \\t\"+str(len(queries_train)))\n",
    "\n",
    "docs_train = {}\n",
    "with open(path_docs_train, 'r') as csvfile:\n",
    "    csvreader = csv.reader(csvfile, delimiter='\\t')\n",
    "    for row in csvreader:\n",
    "        docs_train[row[0]] = row[1]\n",
    "        \n",
    "print(\"Amount of docs: \\t\"+str(len(docs_train)))\n",
    "\n",
    "ratings_train = {}\n",
    "ratings_count_train = 0\n",
    "with open(path_ratings_train, 'r') as csvfile:\n",
    "    csvreader = csv.reader(csvfile, delimiter='\\t')\n",
    "        \n",
    "    for row in csvreader:\n",
    "        ratings_count_train = ratings_count_train + 1\n",
    "        query = row[0]\n",
    "        text = row[2]\n",
    "        rating = float(row[3])\n",
    "        \n",
    "        if query in ratings_train.keys():\n",
    "            ratings_train[query][text] = rating\n",
    "        else:\n",
    "            ratings_train[query] = {text: rating}\n",
    "        \n",
    "print(\"Amount of ratings: \\t\"+str(ratings_count_train))"
   ]
  },
  {
   "cell_type": "markdown",
   "metadata": {},
   "source": [
    "### Analyse train data"
   ]
  },
  {
   "cell_type": "code",
   "execution_count": 68,
   "metadata": {},
   "outputs": [
    {
     "name": "stdout",
     "output_type": "stream",
     "text": [
      "Amount of queries: \t3244\n",
      "Amount of docs: \t3633\n",
      "Amount of ratings: \t134294\n"
     ]
    }
   ],
   "source": [
    "queries = dict(queries_test.items())\n",
    "queries.update(queries_dev.items())\n",
    "queries.update(queries_train.items())\n",
    "\n",
    "docs_len = len(docs_test.items()) + len(docs_dev.items()) + len(docs_train.items())\n",
    "\n",
    "print(\"Amount of queries: \\t\"+str(len(queries)))\n",
    "print(\"Amount of docs: \\t\"+str(len(docs)))\n",
    "print(\"Amount of ratings: \\t\"+str(ratings_count_test + ratings_count_dev + ratings_count_train))"
   ]
  },
  {
   "cell_type": "markdown",
   "metadata": {},
   "source": [
    "### Analyse NfCorpus dump"
   ]
  },
  {
   "cell_type": "code",
   "execution_count": 81,
   "metadata": {},
   "outputs": [
    {
     "name": "stdout",
     "output_type": "stream",
     "text": [
      "Amount of docs: \t5371\n",
      "----------------------------------------\n",
      "URL: http://www.ncbi.nlm.nih.gov/pubmed/23092936\n",
      "Title: Birth Weight, Head Circumference, and Prenatal Exposure to Acrylamide from Maternal Diet: The European Prospective Mother–Child Study (NewGeneris)\n",
      "Abstract: Abstract Background: Acrylamide is a common dietary exposure that crosses the human placenta. It is classified as a probable human carcinogen, and developmental toxicity has been observed in rodents. Objectives: We examined the associations between prenatal exposure to acrylamide and birth outcomes in a prospective European mother–child study. Methods: Hemoglobin (Hb) adducts of acrylamide and its metabolite glycidamide were measured in cord blood (reflecting cumulated exposure in the last months of pregnancy) from 1,101 singleton pregnant women recruited in Denmark, England, Greece, Norway, and Spain during 2006–2010. Maternal diet was estimated through food-frequency questionnaires. Results: Both acrylamide and glycidamide Hb adducts were associated with a statistically significant reduction in birth weight and head circumference. The estimated difference in birth weight for infants in the highest versus lowest quartile of acrylamide Hb adduct levels after adjusting for gestational age and country was –132 g (95% CI: –207, –56); the corresponding difference for head circumference was –0.33 cm (95% CI: –0.61, –0.06). Findings were similar in infants of nonsmokers, were consistent across countries, and remained after adjustment for factors associated with reduced birth weight. Maternal consumption of foods rich in acrylamide, such as fried potatoes, was associated with cord blood acrylamide adduct levels and with reduced birth weight. Conclusions: Dietary exposure to acrylamide was associated with reduced birth weight and head circumference. Consumption of specific foods during pregnancy was associated with higher acrylamide exposure in utero. If confirmed, these findings suggest that dietary intake of acrylamide should be reduced among pregnant women.\n"
     ]
    }
   ],
   "source": [
    "path_docs_dump = \"./all_docs/doc_dump.txt\"\n",
    "\n",
    "docs_dump = {}\n",
    "with open(path_docs_dump, 'r') as csvfile:\n",
    "    csvreader = csv.reader(csvfile, delimiter='\\t')\n",
    "    for row in csvreader:\n",
    "        ids = row[0]\n",
    "        url = row[1]\n",
    "        title = row[2]\n",
    "        abstract = row[3]\n",
    "        \n",
    "        docs_dump[ids] = [url, title, abstract]\n",
    "\n",
    "print(\"Amount of docs: \\t\"+str(len(docs_dump)))\n",
    "print(\"----------------------------------------\")\n",
    "print(\"URL: \"+docs_dump['MED-1'][0])\n",
    "print(\"Title: \"+docs_dump['MED-1'][1])\n",
    "print(\"Abstract: \"+docs_dump['MED-1'][2])"
   ]
  },
  {
   "cell_type": "code",
   "execution_count": null,
   "metadata": {},
   "outputs": [],
   "source": []
  }
 ],
 "metadata": {
  "kernelspec": {
   "display_name": "Python 2",
   "language": "python",
   "name": "python2"
  },
  "language_info": {
   "codemirror_mode": {
    "name": "ipython",
    "version": 3
   },
   "file_extension": ".py",
   "mimetype": "text/x-python",
   "name": "python",
   "nbconvert_exporter": "python",
   "pygments_lexer": "ipython3",
   "version": "3.6.6"
  }
 },
 "nbformat": 4,
 "nbformat_minor": 1
}
